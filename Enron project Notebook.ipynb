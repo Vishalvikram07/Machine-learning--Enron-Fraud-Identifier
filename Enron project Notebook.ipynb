{
 "cells": [
  {
   "cell_type": "code",
   "execution_count": 1,
   "metadata": {
    "collapsed": true
   },
   "outputs": [],
   "source": [
    "import sys\n",
    "import pickle\n",
    "sys.path.append(\"../tools/\")\n",
    "\n",
    "from feature_format import featureFormat, targetFeatureSplit\n",
    "from tester import dump_classifier_and_data\n",
    "\n",
    "### Task 1: Select what features you'll use.\n",
    "### features_list is a list of strings, each of which is a feature name.\n",
    "### The first feature must be \"poi\".\n",
    "features_list = ['poi',\"bonus\",\"exercised_stock_options\",\"salary\",\"total_stock_value\",\"wealth\",\"deferred_income\"] # You will need to use more features\n",
    "\n",
    "### Load the dictionary containing the dataset\n",
    "with open(\"final_project_dataset.pkl\", \"r\") as data_file:\n",
    "    data_dict = pickle.load(data_file)\n",
    "import pandas\n",
    "df = pandas.DataFrame.from_records(list(data_dict.values()))\n",
    "employees = pandas.Series(list(data_dict.keys()))\n",
    "df.set_index(employees, inplace=True)\n",
    "df.replace('NaN', 0, inplace = True)\n",
    "\n",
    "### Task 2: Remove outliers\n",
    "df.drop(df.index[104],inplace=True)\n",
    "\n",
    "### Task 3: Create new feature(s)\n",
    "df[\"wealth\"]=df[\"bonus\"] +df[\"total_stock_value\"] +df[\"salary\"] +df[\"total_payments\"] +df[\"long_term_incentive\"]\n",
    "x=[]\n",
    "for i in range(0,len(df[\"from_messages\"])):\n",
    "    if df[\"from_messages\"][i]==0:\n",
    "        x.append(0)\n",
    "    else:\n",
    "        x.append(df[\"from_poi_to_this_person\"][i]/(df[\"from_messages\"][i]))\n",
    "        \n",
    "df[\"fraction_from_poi\"]=pandas.Series(x,index=df.index)\n",
    "y=[]\n",
    "for i in range(0,len(df[\"to_messages\"])):\n",
    "    if df[\"to_messages\"][i]==0:\n",
    "        y.append(0)\n",
    "    else:\n",
    "        y.append(df[\"from_this_person_to_poi\"][i]/float(df[\"to_messages\"][i]))\n",
    "df[\"fraction_to_poi\"]=pandas.Series(y,index=df.index)\n",
    "\n",
    "data_dict = df.to_dict('index')\n",
    "### Store to my_dataset for easy export below.\n",
    "my_dataset = data_dict\n",
    "\n",
    "### Extract features and labels from dataset for local testing\n",
    "data = featureFormat(my_dataset, features_list, sort_keys = True)\n",
    "labels, features = targetFeatureSplit(data)\n",
    "\n",
    "### Task 4: Try a varity of classifiers\n",
    "### Please name your classifier clf for easy export below.\n",
    "### Note that if you want to do PCA or other multi-stage operations,\n",
    "### you'll need to use Pipelines. For more info:\n",
    "### http://scikit-learn.org/stable/modules/pipeline.html\n",
    "\n",
    "# Provided to give you a starting point. Try a variety of classifiers.\n",
    "from sklearn.naive_bayes import GaussianNB\n",
    "from sklearn.metrics import precision_score,recall_score\n",
    "clf=GaussianNB()\n",
    "clf.fit(features,labels)\n",
    "\n",
    "### Task 5: Tune your classifier to achieve better than .3 precision and recall \n",
    "### using our testing script. Check the tester.py script in the final project\n",
    "### folder for details on the evaluation method, especially the test_classifier\n",
    "### function. Because of the small size of the dataset, the script uses\n",
    "### stratified shuffle split cross validation. For more info: \n",
    "### http://scikit-learn.org/stable/modules/generated/sklearn.cross_validation.StratifiedShuffleSplit.html\n",
    "\n",
    "# Example starting point. Try investigating other evaluation techniques!\n",
    "\n",
    "from sklearn.cross_validation import train_test_split\n",
    "X_train, X_test, Y_train,Y_test = \\\n",
    "    train_test_split(features, labels, test_size=0.3, random_state=42)\n",
    "    \n",
    "#Trying Decisiontree Classifier,comment out to run this classifer, before comment above selected GaussianNB classifer\n",
    "\n",
    "#from sklearn.tree import DecisionTreeClassifier\n",
    "#params_dt={\"criterion\":[\"gini\",\"entropy\"],\"min_samples_split\":[2,3,4,5,6,7,8,10,12,13,15],\"min_samples_leaf\":[1,2,3,4,5,6]}\n",
    "#dt=DecisionTreeClassifier()\n",
    "#clf=GridSearchCV(dt,params_dt)\n",
    "#clf.fit(X_train,Y_train)\n",
    "#print(clf.best_params_)\n",
    "#pred_dt=clf.predict(X_test)\n",
    "#print(\"precision score:\",precision_score(pred_dt,Y_test))\n",
    "#print(\"Recall score:\",recall_score(pred_dt,Y_test))\n",
    "\n",
    "#Trying KNN Classifier\n",
    "\n",
    "#from sklearn.neighbors import KNeighborsClassifier\n",
    "#clf=KNeighborsClassifier(n_neighbors=3)\n",
    "#clf.fit(X_train,Y_train)\n",
    "#pred_knn=clf.predict(X_test)\n",
    "#print(\"precision score:\",precision_score(pred_knn,Y_test))\n",
    "#print(\"Recall score:\",recall_score(pred_knn,Y_test))\n",
    "\n",
    "#Trying SVC\n",
    "\n",
    "#from sklearn.svm import SVC\n",
    "#svc=SVC()\n",
    "#params_sv={\"C\":[1,2,3,4,5,6,7,8,9,10,11,12,13,14,15],\"kernel\":[\"linear\",\"poly\",\"rbf\",\"sigmoid\"],\"gamma\":[1,2,3,4,5,6,7,8,9,10]}\n",
    "#clf=GridSearchCV(svc,params_sv)\n",
    "#clf.fit(X_train,Y_train)\n",
    "#print(clf.best_params_)\n",
    "#pred_svc=clf.predict(X_test)\n",
    "#print(\"Precision score:\",precision_score(pred_svc,Y_test))\n",
    "#print(\"Recall score:\",recall_score(pred_svc,Y_test))\n",
    "\n",
    "\n",
    "\n",
    "\n",
    "\n",
    "\n",
    "### Task 6: Dump your classifier, dataset, and features_list so anyone can\n",
    "### check your results. You do not need to change anything below, but make sure\n",
    "### that the version of poi_id.py that you submit can be run on its own and\n",
    "### generates the necessary .pkl files for validating your results.\n",
    "\n",
    "dump_classifier_and_data(clf, my_dataset, features_list)"
   ]
  },
  {
   "cell_type": "markdown",
   "metadata": {},
   "source": [
    "# Here , i have been using pandas DataFrame  for easy manipulation of dataset.\n",
    "\n",
    "i have created the dataframe named\"df\" from the \"data_dict\" dictionary and removed the outlier with index \"TOTAL\"."
   ]
  },
  {
   "cell_type": "code",
   "execution_count": 2,
   "metadata": {
    "collapsed": false
   },
   "outputs": [
    {
     "data": {
      "text/plain": [
       "(145, 24)"
      ]
     },
     "execution_count": 2,
     "metadata": {},
     "output_type": "execute_result"
    }
   ],
   "source": [
    "# Chhecking the shape of dataframe\n",
    "df.shape\n"
   ]
  },
  {
   "cell_type": "code",
   "execution_count": 3,
   "metadata": {
    "collapsed": false
   },
   "outputs": [
    {
     "data": {
      "text/html": [
       "<div>\n",
       "<table border=\"1\" class=\"dataframe\">\n",
       "  <thead>\n",
       "    <tr style=\"text-align: right;\">\n",
       "      <th></th>\n",
       "      <th>bonus</th>\n",
       "      <th>deferral_payments</th>\n",
       "      <th>deferred_income</th>\n",
       "      <th>director_fees</th>\n",
       "      <th>email_address</th>\n",
       "      <th>exercised_stock_options</th>\n",
       "      <th>expenses</th>\n",
       "      <th>from_messages</th>\n",
       "      <th>from_poi_to_this_person</th>\n",
       "      <th>from_this_person_to_poi</th>\n",
       "      <th>...</th>\n",
       "      <th>restricted_stock</th>\n",
       "      <th>restricted_stock_deferred</th>\n",
       "      <th>salary</th>\n",
       "      <th>shared_receipt_with_poi</th>\n",
       "      <th>to_messages</th>\n",
       "      <th>total_payments</th>\n",
       "      <th>total_stock_value</th>\n",
       "      <th>wealth</th>\n",
       "      <th>fraction_from_poi</th>\n",
       "      <th>fraction_to_poi</th>\n",
       "    </tr>\n",
       "  </thead>\n",
       "  <tbody>\n",
       "    <tr>\n",
       "      <th>METTS MARK</th>\n",
       "      <td>600000</td>\n",
       "      <td>0</td>\n",
       "      <td>0</td>\n",
       "      <td>0</td>\n",
       "      <td>mark.metts@enron.com</td>\n",
       "      <td>0</td>\n",
       "      <td>94299</td>\n",
       "      <td>29</td>\n",
       "      <td>38</td>\n",
       "      <td>1</td>\n",
       "      <td>...</td>\n",
       "      <td>585062</td>\n",
       "      <td>0</td>\n",
       "      <td>365788</td>\n",
       "      <td>702</td>\n",
       "      <td>807</td>\n",
       "      <td>1061827</td>\n",
       "      <td>585062</td>\n",
       "      <td>2612677</td>\n",
       "      <td>1</td>\n",
       "      <td>0.001239</td>\n",
       "    </tr>\n",
       "    <tr>\n",
       "      <th>BAXTER JOHN C</th>\n",
       "      <td>1200000</td>\n",
       "      <td>1295738</td>\n",
       "      <td>-1386055</td>\n",
       "      <td>0</td>\n",
       "      <td>0</td>\n",
       "      <td>6680544</td>\n",
       "      <td>11200</td>\n",
       "      <td>0</td>\n",
       "      <td>0</td>\n",
       "      <td>0</td>\n",
       "      <td>...</td>\n",
       "      <td>3942714</td>\n",
       "      <td>0</td>\n",
       "      <td>267102</td>\n",
       "      <td>0</td>\n",
       "      <td>0</td>\n",
       "      <td>5634343</td>\n",
       "      <td>10623258</td>\n",
       "      <td>19310758</td>\n",
       "      <td>0</td>\n",
       "      <td>0.000000</td>\n",
       "    </tr>\n",
       "    <tr>\n",
       "      <th>ELLIOTT STEVEN</th>\n",
       "      <td>350000</td>\n",
       "      <td>0</td>\n",
       "      <td>-400729</td>\n",
       "      <td>0</td>\n",
       "      <td>steven.elliott@enron.com</td>\n",
       "      <td>4890344</td>\n",
       "      <td>78552</td>\n",
       "      <td>0</td>\n",
       "      <td>0</td>\n",
       "      <td>0</td>\n",
       "      <td>...</td>\n",
       "      <td>1788391</td>\n",
       "      <td>0</td>\n",
       "      <td>170941</td>\n",
       "      <td>0</td>\n",
       "      <td>0</td>\n",
       "      <td>211725</td>\n",
       "      <td>6678735</td>\n",
       "      <td>7411401</td>\n",
       "      <td>0</td>\n",
       "      <td>0.000000</td>\n",
       "    </tr>\n",
       "    <tr>\n",
       "      <th>CORDES WILLIAM R</th>\n",
       "      <td>0</td>\n",
       "      <td>0</td>\n",
       "      <td>0</td>\n",
       "      <td>0</td>\n",
       "      <td>bill.cordes@enron.com</td>\n",
       "      <td>651850</td>\n",
       "      <td>0</td>\n",
       "      <td>12</td>\n",
       "      <td>10</td>\n",
       "      <td>0</td>\n",
       "      <td>...</td>\n",
       "      <td>386335</td>\n",
       "      <td>0</td>\n",
       "      <td>0</td>\n",
       "      <td>58</td>\n",
       "      <td>764</td>\n",
       "      <td>0</td>\n",
       "      <td>1038185</td>\n",
       "      <td>1038185</td>\n",
       "      <td>0</td>\n",
       "      <td>0.000000</td>\n",
       "    </tr>\n",
       "    <tr>\n",
       "      <th>HANNON KEVIN P</th>\n",
       "      <td>1500000</td>\n",
       "      <td>0</td>\n",
       "      <td>-3117011</td>\n",
       "      <td>0</td>\n",
       "      <td>kevin.hannon@enron.com</td>\n",
       "      <td>5538001</td>\n",
       "      <td>34039</td>\n",
       "      <td>32</td>\n",
       "      <td>32</td>\n",
       "      <td>21</td>\n",
       "      <td>...</td>\n",
       "      <td>853064</td>\n",
       "      <td>0</td>\n",
       "      <td>243293</td>\n",
       "      <td>1035</td>\n",
       "      <td>1045</td>\n",
       "      <td>288682</td>\n",
       "      <td>6391065</td>\n",
       "      <td>10040051</td>\n",
       "      <td>1</td>\n",
       "      <td>0.020096</td>\n",
       "    </tr>\n",
       "  </tbody>\n",
       "</table>\n",
       "<p>5 rows × 24 columns</p>\n",
       "</div>"
      ],
      "text/plain": [
       "                    bonus  deferral_payments  deferred_income  director_fees  \\\n",
       "METTS MARK         600000                  0                0              0   \n",
       "BAXTER JOHN C     1200000            1295738         -1386055              0   \n",
       "ELLIOTT STEVEN     350000                  0          -400729              0   \n",
       "CORDES WILLIAM R        0                  0                0              0   \n",
       "HANNON KEVIN P    1500000                  0         -3117011              0   \n",
       "\n",
       "                             email_address  exercised_stock_options  expenses  \\\n",
       "METTS MARK            mark.metts@enron.com                        0     94299   \n",
       "BAXTER JOHN C                            0                  6680544     11200   \n",
       "ELLIOTT STEVEN    steven.elliott@enron.com                  4890344     78552   \n",
       "CORDES WILLIAM R     bill.cordes@enron.com                   651850         0   \n",
       "HANNON KEVIN P      kevin.hannon@enron.com                  5538001     34039   \n",
       "\n",
       "                  from_messages  from_poi_to_this_person  \\\n",
       "METTS MARK                   29                       38   \n",
       "BAXTER JOHN C                 0                        0   \n",
       "ELLIOTT STEVEN                0                        0   \n",
       "CORDES WILLIAM R             12                       10   \n",
       "HANNON KEVIN P               32                       32   \n",
       "\n",
       "                  from_this_person_to_poi       ...         restricted_stock  \\\n",
       "METTS MARK                              1       ...                   585062   \n",
       "BAXTER JOHN C                           0       ...                  3942714   \n",
       "ELLIOTT STEVEN                          0       ...                  1788391   \n",
       "CORDES WILLIAM R                        0       ...                   386335   \n",
       "HANNON KEVIN P                         21       ...                   853064   \n",
       "\n",
       "                  restricted_stock_deferred  salary shared_receipt_with_poi  \\\n",
       "METTS MARK                                0  365788                     702   \n",
       "BAXTER JOHN C                             0  267102                       0   \n",
       "ELLIOTT STEVEN                            0  170941                       0   \n",
       "CORDES WILLIAM R                          0       0                      58   \n",
       "HANNON KEVIN P                            0  243293                    1035   \n",
       "\n",
       "                  to_messages  total_payments  total_stock_value    wealth  \\\n",
       "METTS MARK                807         1061827             585062   2612677   \n",
       "BAXTER JOHN C               0         5634343           10623258  19310758   \n",
       "ELLIOTT STEVEN              0          211725            6678735   7411401   \n",
       "CORDES WILLIAM R          764               0            1038185   1038185   \n",
       "HANNON KEVIN P           1045          288682            6391065  10040051   \n",
       "\n",
       "                  fraction_from_poi  fraction_to_poi  \n",
       "METTS MARK                        1         0.001239  \n",
       "BAXTER JOHN C                     0         0.000000  \n",
       "ELLIOTT STEVEN                    0         0.000000  \n",
       "CORDES WILLIAM R                  0         0.000000  \n",
       "HANNON KEVIN P                    1         0.020096  \n",
       "\n",
       "[5 rows x 24 columns]"
      ]
     },
     "execution_count": 3,
     "metadata": {},
     "output_type": "execute_result"
    }
   ],
   "source": [
    "# Checking out top 5 rows of our dataframe\n",
    "df.head(5)"
   ]
  },
  {
   "cell_type": "code",
   "execution_count": 4,
   "metadata": {
    "collapsed": false,
    "scrolled": true
   },
   "outputs": [
    {
     "data": {
      "text/plain": [
       "Index([u'bonus', u'deferral_payments', u'deferred_income', u'director_fees',\n",
       "       u'email_address', u'exercised_stock_options', u'expenses',\n",
       "       u'from_messages', u'from_poi_to_this_person',\n",
       "       u'from_this_person_to_poi', u'loan_advances', u'long_term_incentive',\n",
       "       u'other', u'poi', u'restricted_stock', u'restricted_stock_deferred',\n",
       "       u'salary', u'shared_receipt_with_poi', u'to_messages',\n",
       "       u'total_payments', u'total_stock_value', u'wealth',\n",
       "       u'fraction_from_poi', u'fraction_to_poi'],\n",
       "      dtype='object')"
      ]
     },
     "execution_count": 4,
     "metadata": {},
     "output_type": "execute_result"
    }
   ],
   "source": [
    "# Extracting the names of features from the dataframe\n",
    "df.columns"
   ]
  },
  {
   "cell_type": "code",
   "execution_count": 10,
   "metadata": {
    "collapsed": true
   },
   "outputs": [],
   "source": [
    "# creating feature and labels from the dataframe \n",
    "features=df[[u'bonus', u'deferral_payments', u'deferred_income', u'exercised_stock_options', u'expenses',\n",
    "       u'from_messages', u'from_poi_to_this_person',\n",
    "       u'from_this_person_to_poi', u'loan_advances', u'long_term_incentive',\n",
    "       u'other', u'restricted_stock', u'restricted_stock_deferred',\n",
    "       u'salary', u'shared_receipt_with_poi', u'to_messages',\n",
    "       u'total_payments', u'total_stock_value', u'wealth',\n",
    "       u'fraction_from_poi', u'fraction_to_poi']]\n",
    "labels=df[\"poi\"]"
   ]
  },
  {
   "cell_type": "code",
   "execution_count": 11,
   "metadata": {
    "collapsed": false
   },
   "outputs": [
    {
     "data": {
      "text/plain": [
       "(145, 21)"
      ]
     },
     "execution_count": 11,
     "metadata": {},
     "output_type": "execute_result"
    }
   ],
   "source": [
    "# Checking the shape of the features\n",
    "features.shape"
   ]
  },
  {
   "cell_type": "code",
   "execution_count": 13,
   "metadata": {
    "collapsed": false
   },
   "outputs": [
    {
     "name": "stdout",
     "output_type": "stream",
     "text": [
      "[ 21.32789041   0.20970584  11.73269808  25.3801053    6.37461449\n",
      "   0.15877024   5.44668748   2.47052122   7.30140665  10.22290421\n",
      "   4.26357664   9.4807432    0.06447703  18.86179532   8.90382156\n",
      "   1.75169428   8.96781935  24.75252302  19.70514459   4.79734906\n",
      "   4.24369185]\n"
     ]
    }
   ],
   "source": [
    "# Selecting features using SelectKBest based on scores\n",
    "\n",
    "from sklearn.feature_selection import SelectKBest\n",
    "select_best=SelectKBest(k=5)\n",
    "select_best.fit(features,labels)\n",
    "print(select_best.scores_)"
   ]
  },
  {
   "cell_type": "code",
   "execution_count": 47,
   "metadata": {
    "collapsed": true
   },
   "outputs": [],
   "source": [
    "# Selected top 6 features based on their scores\n",
    "\n",
    "final_features=df[[\"bonus\",\"exercised_stock_options\",\"salary\",\"total_stock_value\",\"wealth\",\"deferred_income\"]]"
   ]
  },
  {
   "cell_type": "code",
   "execution_count": 48,
   "metadata": {
    "collapsed": false
   },
   "outputs": [
    {
     "name": "stdout",
     "output_type": "stream",
     "text": [
      "(145L, 6L)\n"
     ]
    }
   ],
   "source": [
    "# preprocessing data using MinMaxScaler\n",
    "\n",
    "from sklearn.preprocessing import MinMaxScaler\n",
    "scaler=MinMaxScaler()\n",
    "scaler.fit(final_features)\n",
    "scaled_features=scaler.transform(final_features)\n",
    "print(scaled_features.shape)"
   ]
  },
  {
   "cell_type": "code",
   "execution_count": 49,
   "metadata": {
    "collapsed": false
   },
   "outputs": [],
   "source": [
    "# creating training and testing set using train_test_split \n",
    "\n",
    "from sklearn.cross_validation import train_test_split\n",
    "X_train,X_test,Y_train,Y_test=train_test_split(scaled_features,labels,test_size=0.4,random_state=42)"
   ]
  },
  {
   "cell_type": "code",
   "execution_count": 50,
   "metadata": {
    "collapsed": false
   },
   "outputs": [
    {
     "name": "stdout",
     "output_type": "stream",
     "text": [
      "(87L, 6L)\n",
      "(58L, 6L)\n",
      "(87L,)\n",
      "(58L,)\n"
     ]
    }
   ],
   "source": [
    "#Printing shape of traing and testing dataset\n",
    "\n",
    "print(X_train.shape)\n",
    "print(X_test.shape)\n",
    "print(Y_train.shape)\n",
    "print(Y_test.shape)"
   ]
  },
  {
   "cell_type": "code",
   "execution_count": 51,
   "metadata": {
    "collapsed": false
   },
   "outputs": [
    {
     "name": "stdout",
     "output_type": "stream",
     "text": [
      "('precision score :', 0.5714285714285714)\n",
      "('Recall score:', 0.66666666666666663)\n"
     ]
    }
   ],
   "source": [
    "# Trying out naive_bayes Classifier\n",
    "# printing precision,recall scores\n",
    "\n",
    "from sklearn.naive_bayes import GaussianNB\n",
    "from sklearn.metrics import precision_score,recall_score\n",
    "clf_nb=GaussianNB()\n",
    "clf_nb.fit(X_train,Y_train)\n",
    "pred_nb=clf_nb.predict(X_test)\n",
    "print(\"precision score :\",precision_score(pred_nb,Y_test))\n",
    "print(\"Recall score:\",recall_score(pred_nb,Y_test))\n"
   ]
  },
  {
   "cell_type": "code",
   "execution_count": 52,
   "metadata": {
    "collapsed": false
   },
   "outputs": [
    {
     "name": "stdout",
     "output_type": "stream",
     "text": [
      "('precision score:', 0.14285714285714285)\n",
      "('Recall score:', 0.5)\n"
     ]
    }
   ],
   "source": [
    "#trying KNN\n",
    "\n",
    "from sklearn.neighbors import KNeighborsClassifier\n",
    "from sklearn.grid_search import GridSearchCV\n",
    "params={\"n_neighbors\":[1,2,3,4,5,6,7,8,9,10,11,12,13,14,15]}\n",
    "knn=KNeighborsClassifier(n_neighbors=3)\n",
    "knn.fit(X_train,Y_train)\n",
    "pred_knn=knn.predict(X_test)\n",
    "print(\"precision score:\",precision_score(pred_knn,Y_test))\n",
    "print(\"Recall score:\",recall_score(pred_knn,Y_test))"
   ]
  },
  {
   "cell_type": "code",
   "execution_count": 64,
   "metadata": {
    "collapsed": false
   },
   "outputs": [
    {
     "name": "stdout",
     "output_type": "stream",
     "text": [
      "{'min_samples_split': 2, 'criterion': 'gini', 'min_samples_leaf': 2}\n",
      "('precision score:', 0.5714285714285714)\n",
      "('Recall score:', 0.80000000000000004)\n"
     ]
    }
   ],
   "source": [
    "#Trying DecisionTreeClassifier with GridSearchCV\n",
    "\n",
    "from sklearn.tree import DecisionTreeClassifier\n",
    "params_dt={\"criterion\":[\"gini\",\"entropy\"],\"min_samples_split\":[2,3,4,5,6,7,8,10,12,13,15],\"min_samples_leaf\":[1,2,3,4,5,6]}\n",
    "dt=DecisionTreeClassifier()\n",
    "clf_dt=GridSearchCV(dt,params_dt)\n",
    "clf_dt.fit(X_train,Y_train)\n",
    "print(clf_dt.best_params_)\n",
    "pred_dt=clf_dt.predict(X_test)\n",
    "print(\"precision score:\",precision_score(pred_dt,Y_test))\n",
    "print(\"Recall score:\",recall_score(pred_dt,Y_test))\n"
   ]
  },
  {
   "cell_type": "code",
   "execution_count": 65,
   "metadata": {
    "collapsed": false
   },
   "outputs": [
    {
     "name": "stdout",
     "output_type": "stream",
     "text": [
      "{'kernel': 'sigmoid', 'C': 3, 'gamma': 2}\n",
      "('Precision score:', 0.14285714285714285)\n",
      "('Recall score:', 1.0)\n"
     ]
    }
   ],
   "source": [
    "#trying out SVC with GridSeasrchCV\n",
    "from sklearn.svm import SVC\n",
    "svc=SVC()\n",
    "params_sv={\"C\":[1,2,3,4,5,6,7,8,9,10,11,12,13,14,15],\"kernel\":[\"linear\",\"poly\",\"rbf\",\"sigmoid\"],\"gamma\":[1,2,3,4,5,6,7,8,9,10]}\n",
    "clf_svc=GridSearchCV(svc,params_sv)\n",
    "clf_svc.fit(X_train,Y_train)\n",
    "print(clf_svc.best_params_)\n",
    "pred_svc=clf_svc.predict(X_test)\n",
    "print(\"Precision score:\",precision_score(pred_svc,Y_test))\n",
    "print(\"Recall score:\",recall_score(pred_svc,Y_test))\n"
   ]
  },
  {
   "cell_type": "code",
   "execution_count": null,
   "metadata": {
    "collapsed": true
   },
   "outputs": [],
   "source": []
  }
 ],
 "metadata": {
  "kernelspec": {
   "display_name": "Python [py2]",
   "language": "python",
   "name": "Python [py2]"
  },
  "language_info": {
   "codemirror_mode": {
    "name": "ipython",
    "version": 2
   },
   "file_extension": ".py",
   "mimetype": "text/x-python",
   "name": "python",
   "nbconvert_exporter": "python",
   "pygments_lexer": "ipython2",
   "version": "2.7.12"
  }
 },
 "nbformat": 4,
 "nbformat_minor": 0
}
